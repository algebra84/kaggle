{
 "cells": [
  {
   "cell_type": "code",
   "execution_count": 1,
   "metadata": {},
   "outputs": [],
   "source": [
    "import pandas as pd\n",
    "import numpy as np\n",
    "\n",
    "labels = pd.read_csv('labels.csv')"
   ]
  },
  {
   "cell_type": "code",
   "execution_count": 2,
   "metadata": {
    "scrolled": true
   },
   "outputs": [],
   "source": [
    "# get dogbreed list\n",
    "NUMBERCLASS = 120\n",
    "selected_breed_list = labels.groupby('breed').count().sort_values('id',ascending=False).head(NUMBERCLASS).index\n",
    "labels = labels[labels['breed'].isin(selected_breed_list)]\n",
    "count_number = labels.groupby('breed').count().sort_values('id',ascending=False)['id']"
   ]
  },
  {
   "cell_type": "code",
   "execution_count": 3,
   "metadata": {},
   "outputs": [],
   "source": [
    "#set breed_list index for labels\n",
    "labels['index'] = 0\n",
    "for i in range(NUMBERCLASS):\n",
    "    labels.loc[labels['breed'] == selected_breed_list[i],'index'] = i"
   ]
  },
  {
   "cell_type": "markdown",
   "metadata": {},
   "source": [
    "# vgg16 feature for softmax"
   ]
  },
  {
   "cell_type": "code",
   "execution_count": null,
   "metadata": {
    "scrolled": true
   },
   "outputs": [],
   "source": [
    "#get vgg16 feature for train \n",
    "from keras.applications.vgg16 import VGG16\n",
    "from keras.preprocessing import image\n",
    "from keras.applications.vgg16 import preprocess_input\n",
    "import numpy as np\n",
    "import sys,time\n",
    "POOLING = 'avg'\n",
    "data = []\n",
    "model = VGG16(weights='imagenet', include_top=False,pooling=POOLING)\n",
    "for i in labels.index:\n",
    "    img_path = 'train/'+labels['id'][i]+'.jpg'\n",
    "    img = image.load_img(img_path, target_size=(224, 224))\n",
    "    x = image.img_to_array(img)\n",
    "    x = np.expand_dims(x, axis=0)\n",
    "    x = preprocess_input(x)\n",
    "    features = model.predict(x,batch_size=32)\n",
    "    data.append(features)\n",
    "    sys.stdout.write('{0}/12222\\r'.format(i + 1))\n",
    "    sys.stdout.flush()\n",
    "data_nd = np.asarray(data)\n"
   ]
  },
  {
   "cell_type": "code",
   "execution_count": null,
   "metadata": {},
   "outputs": [],
   "source": [
    "# split data \n",
    "import keras\n",
    "X = data_nd.reshape(data_nd.shape[0],-1)\n",
    "y = labels['index']\n",
    "\n",
    "split_pro = 0.8\n",
    "split_edge = int(X.shape[0]*split_pro)\n",
    "X_train = X[:split_edge]\n",
    "y_train = y[:split_edge]\n",
    "X_test = X[split_edge:]\n",
    "y_test = y[split_edge:]\n"
   ]
  },
  {
   "cell_type": "code",
   "execution_count": null,
   "metadata": {
    "scrolled": true
   },
   "outputs": [],
   "source": [
    "#set model\n",
    "from sklearn.linear_model import LogisticRegression\n",
    "logreg = LogisticRegression(multi_class='multinomial', solver='lbfgs', random_state=1)\n",
    "logreg.fit(X_train,y_train)\n",
    "logreg.score(X_test,y_test)"
   ]
  },
  {
   "cell_type": "markdown",
   "metadata": {},
   "source": [
    "# Iception feature for softmax"
   ]
  },
  {
   "cell_type": "code",
   "execution_count": null,
   "metadata": {},
   "outputs": [],
   "source": [
    "from keras.applications.inception_v3 import InceptionV3\n",
    "from keras.applications import inception_v3\n",
    "from keras.preprocessing import image\n",
    "import keras\n",
    "import sys\n",
    "INPUT_SIZE = 299\n",
    "data = np.zeros((len(labels), INPUT_SIZE, INPUT_SIZE, 3), dtype='float32')\n",
    "y = keras.utils.to_categorical(labels['index'], num_classes=NUMBERCLASS)\n",
    "for i,j in zip(labels.index,range(len(labels))):\n",
    "    img_path = 'train/'+labels['id'][i]+'.jpg'\n",
    "    img = image.load_img(img_path, target_size=(INPUT_SIZE, INPUT_SIZE))\n",
    "    x = image.img_to_array(img)\n",
    "    x = np.expand_dims(x, axis=0)\n",
    "    x = inception_v3.preprocess_input(x)\n",
    "    sys.stdout.write('{0}/12222\\r'.format(j + 1))\n",
    "    sys.stdout.flush()\n",
    "    data[j] = x\n",
    "\n",
    "\n",
    "split_pro = 0.7\n",
    "split_edge = int(data.shape[0]*split_pro)\n",
    "X_train = data[:split_edge]\n",
    "y_train = y[:split_edge]\n",
    "X_test = data[split_edge:]\n",
    "y_test = y[split_edge:]\n",
    "print('Train Images shape: {} size: {:,}'.format(data.shape, data.size))\n"
   ]
  },
  {
   "cell_type": "markdown",
   "metadata": {},
   "source": [
    "## Xception feature for softmax"
   ]
  },
  {
   "cell_type": "code",
   "execution_count": null,
   "metadata": {},
   "outputs": [],
   "source": [
    "from keras.applications.xception import Xception\n",
    "from keras.applications import xception\n",
    "from keras.preprocessing import image\n",
    "import keras\n",
    "import sys\n",
    "INPUT_SIZE = 299\n",
    "# SAMPLE_NUMBER = len(labels)\n",
    "SAMPLE_NUMBER = count_number[0]*120\n",
    "data = np.zeros((SAMPLE_NUMBER, INPUT_SIZE, INPUT_SIZE, 3), dtype='float32')\n",
    "y = np.zeros((SAMPLE_NUMBER,120))\n",
    "y[:len(labels)]  = keras.utils.to_categorical(labels['index'], num_classes=NUMBERCLASS)\n",
    "for i,j in zip(labels.index,range(len(labels))):\n",
    "    img_path = 'train/'+labels['id'][i]+'.jpg'\n",
    "    img = image.load_img(img_path, target_size=(INPUT_SIZE, INPUT_SIZE))\n",
    "    x = image.img_to_array(img)\n",
    "    x = np.expand_dims(x, axis=0)\n",
    "    x = xception.preprocess_input(x)\n",
    "    sys.stdout.write('{0}/12222\\r'.format(j + 1))\n",
    "    sys.stdout.flush()\n",
    "    data[j] = x\n"
   ]
  },
  {
   "cell_type": "code",
   "execution_count": null,
   "metadata": {},
   "outputs": [],
   "source": [
    "count_number[0]*120"
   ]
  },
  {
   "cell_type": "markdown",
   "metadata": {},
   "source": [
    "## Oversampling"
   ]
  },
  {
   "cell_type": "code",
   "execution_count": null,
   "metadata": {},
   "outputs": [],
   "source": [
    "print \"oversampling\"\n",
    "j = 0\n",
    "number_base = len(labels)\n",
    "for i in labels.index:\n",
    "    if count_number[labels['breed'][i]] != count_number[0]:\n",
    "        count_number[labels['breed'][i]] += 1\n",
    "        data[number_base+j] = data[i]\n",
    "        y[number_base+j] = y[i]\n",
    "        j += 1"
   ]
  },
  {
   "cell_type": "markdown",
   "metadata": {},
   "source": [
    "## split into train/test set"
   ]
  },
  {
   "cell_type": "code",
   "execution_count": null,
   "metadata": {},
   "outputs": [],
   "source": [
    "shuffle_index = np.arange(data.shape[0])\n",
    "np.random.shuffle(shuffle_index)\n",
    "split_pro = 1.0\n",
    "split_edge = int(data.shape[0]*split_pro)\n",
    "# X_train = data[shuffle_index[:split_edge]]\n",
    "# y_train = y[shuffle_index[:split_edge]]\n",
    "# X_test = data[shuffle_index[split_edge:]]\n",
    "# y_test = y[shuffle_index[split_edge:]]\n",
    "\n",
    "print('Train Images shape: {} size: {:,}'.format(data.shape, data.size))"
   ]
  },
  {
   "cell_type": "markdown",
   "metadata": {},
   "source": [
    "# Use Fine Tune"
   ]
  },
  {
   "cell_type": "code",
   "execution_count": null,
   "metadata": {},
   "outputs": [],
   "source": [
    "from keras.preprocessing import image\n",
    "from keras.models import Model\n",
    "from keras.layers import Dense, GlobalAveragePooling2D, Dropout\n",
    "from keras import backend as K\n",
    "POOLING = 'avg'\n",
    "# create the base pre-trained model\n",
    "base_model = Xception(weights='imagenet', include_top=False,pooling=POOLING)\n",
    "\n",
    "# add a global spatial average pooling layer\n",
    "x = base_model.output\n",
    "x = Dropout(0.5)(x)\n",
    "# let's add a fully-connected layer\n",
    "# x = Dense(1024, activation='relu')(x)\n",
    "# and a logistic layer -- let's say we have 200 classes\n",
    "predictions = Dense(NUMBERCLASS, activation='softmax')(x)\n",
    "\n",
    "# this is the model we will train\n",
    "model = Model(inputs=base_model.input, outputs=predictions)\n",
    "\n",
    "# first: train only the top layers (which were randomly initialized)\n",
    "# i.e. freeze all convolutional InceptionV3 layers\n",
    "for layer in base_model.layers:\n",
    "    layer.trainable = False\n",
    "\n",
    "# compile the model (should be done *after* setting layers to non-trainable)\n",
    "model.compile(optimizer='rmsprop', loss='categorical_crossentropy')\n",
    "\n",
    "# train the model on the new data for a few epochs\n",
    "model.fit(data[shuffle_index[:split_edge]], y[shuffle_index[:split_edge]],batch_size=32,epochs=15)\n",
    "\n",
    "# at this point, the top layers are well trained and we can start fine-tuning\n",
    "# convolutional layers from inception V3. We will freeze the bottom N layers\n",
    "# and train the remaining top layers.\n",
    "\n",
    "# let's visualize layer names and layer indices to see how many layers\n",
    "# we should freeze:\n",
    "# for i, layer in enumerate(base_model.layers):\n",
    "#    print(i, layer.name)\n",
    "\n",
    "# Close fine tune\n",
    "# # we chose to train the top 2 inception blocks, i.e. we will freeze\n",
    "# # the first 249 layers and unfreeze the rest:\n",
    "# for layer in model.layers[:-2]:\n",
    "#    layer.trainable = False\n",
    "# for layer in model.layers[-2:]:\n",
    "#    layer.trainable = True\n",
    "\n",
    "# # we need to recompile the model for these modifications to take effect\n",
    "# # we use SGD with a low learning rate\n",
    "# from keras.optimizers import SGD\n",
    "# model.compile(optimizer=SGD(lr=0.0001, momentum=0.9), loss='categorical_crossentropy')\n",
    "\n",
    "# # we train our model again (this time fine-tuning the top 2 inception blocks\n",
    "# # alongside the top Dense layers\n",
    "# model.fit(data[shuffle_index[:split_edge]], y[shuffle_index[:split_edge]],batch_size=32,epochs=10)"
   ]
  },
  {
   "cell_type": "code",
   "execution_count": null,
   "metadata": {},
   "outputs": [],
   "source": [
    "score = model.evaluate(data[shuffle_index[split_edge:]],y[shuffle_index[split_edge:]])\n",
    "score"
   ]
  },
  {
   "cell_type": "code",
   "execution_count": null,
   "metadata": {
    "scrolled": true
   },
   "outputs": [],
   "source": [
    "y_pred = model.predict(X_test,batch_size=128,verbose=1)"
   ]
  },
  {
   "cell_type": "code",
   "execution_count": null,
   "metadata": {},
   "outputs": [],
   "source": [
    "from IPython.display import SVG\n",
    "from keras.utils.vis_utils import model_to_dot\n",
    "\n",
    "SVG(model_to_dot(model).create(prog='dot', format='svg'))"
   ]
  },
  {
   "cell_type": "code",
   "execution_count": null,
   "metadata": {},
   "outputs": [],
   "source": [
    "np.sum(y_pred.argmax(axis=1) == (y_test*range(120)).sum(axis=1))*1.0/y_test.shape[0]"
   ]
  },
  {
   "cell_type": "code",
   "execution_count": null,
   "metadata": {},
   "outputs": [],
   "source": [
    "import os\n",
    "names = []\n",
    "test_data = []\n",
    "for f in os.listdir('test'):\n",
    "    names.append(f[:-4])\n",
    "    img_path = \"test/\"+f\n",
    "    img = image.load_img(img_path, target_size=(INPUT_SIZE, INPUT_SIZE))\n",
    "    x = image.img_to_array(img)\n",
    "    x = np.expand_dims(x, axis=0)\n",
    "    x = xception.preprocess_input(x)\n",
    "    test_data.append(x)\n",
    "test_data = np.asarray(test_data)\n",
    "names = np.asarray(names)\n",
    "test_data = test_data.reshape(test_data.shape[0],test_data.shape[2],test_data.shape[3],3)"
   ]
  },
  {
   "cell_type": "code",
   "execution_count": null,
   "metadata": {},
   "outputs": [],
   "source": [
    "test_data.shape"
   ]
  },
  {
   "cell_type": "code",
   "execution_count": null,
   "metadata": {},
   "outputs": [],
   "source": [
    "test_pred = model.predict(test_data,batch_size=32,verbose=1)\n",
    "submission = pd.DataFrame(data=test_pred,columns = np.asarray(selected_breed_list))\n",
    "submission.insert(0,'id',names)\n",
    "submission.to_csv('submission_version1.3_simple_xception.csv',index=False)"
   ]
  },
  {
   "cell_type": "code",
   "execution_count": null,
   "metadata": {},
   "outputs": [],
   "source": [
    "import matplotlib.pyplot as plt\n",
    "losses = [1.2340,0.3984,0.3550,0.3237,0.3138,0.2973,0.2892,0.2736,0.2691,0.2713,0.2604,0.2547,0.2476,0.2484,0.2529,0.2395,0.2304,0.2237,0.2371,0.2302,0.2085, 0.2171,0.2096,0.2098,0.2104,0.2162,0.1990,0.2100,0.2142,0.2121]\n",
    "plt.plot(losses[:20])\n",
    "plt.show()"
   ]
  },
  {
   "cell_type": "code",
   "execution_count": null,
   "metadata": {},
   "outputs": [],
   "source": [
    "del data"
   ]
  },
  {
   "cell_type": "code",
   "execution_count": null,
   "metadata": {},
   "outputs": [],
   "source": []
  }
 ],
 "metadata": {
  "kernelspec": {
   "display_name": "Python 2",
   "language": "python",
   "name": "python2"
  },
  "language_info": {
   "codemirror_mode": {
    "name": "ipython",
    "version": 2
   },
   "file_extension": ".py",
   "mimetype": "text/x-python",
   "name": "python",
   "nbconvert_exporter": "python",
   "pygments_lexer": "ipython2",
   "version": "2.7.13"
  }
 },
 "nbformat": 4,
 "nbformat_minor": 2
}
