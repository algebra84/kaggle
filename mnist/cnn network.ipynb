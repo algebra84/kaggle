{
 "cells": [
  {
   "cell_type": "code",
   "execution_count": 3,
   "metadata": {},
   "outputs": [],
   "source": [
    "import pandas as pd\n",
    "import tensorflow as tf\n",
    "data = pd.read_csv('train.csv')\n",
    "data_na = pd.read_csv(\"test.csv\")"
   ]
  },
  {
   "cell_type": "code",
   "execution_count": 4,
   "metadata": {},
   "outputs": [],
   "source": [
    "from sklearn.model_selection import train_test_split\n",
    "X_data = data.drop('label',axis=1)\n",
    "data_na = data_na/255.0\n",
    "y_data = data['label']\n",
    "X_data = X_data/255.0\n",
    "y_data = y_data\n",
    "X_train, X_test, y_train, y_test = train_test_split(X_data,y_data,test_size=0.2, random_state=0)"
   ]
  },
  {
   "cell_type": "code",
   "execution_count": 174,
   "metadata": {},
   "outputs": [],
   "source": [
    "# Parameters\n",
    "learning_rate = 0.001\n",
    "training_iters = 10 * X_train.shape[0]\n",
    "batch_size = 128\n",
    "display_step = 100\n",
    "\n",
    "# Network Parameters\n",
    "n_input = 784 # MNIST data input (img shape: 28*28)\n",
    "n_classes = 10 # MNIST total classes (0-9 digits)\n",
    "dropout = 0.75 # Dropout, probability to keep units"
   ]
  },
  {
   "cell_type": "code",
   "execution_count": 6,
   "metadata": {},
   "outputs": [],
   "source": [
    "def error_rate(predictions, labels):\n",
    "  \"\"\"Return the error rate based on dense predictions and sparse labels.\"\"\"\n",
    "  return 100.0 - (\n",
    "      100.0 *\n",
    "      numpy.sum(numpy.argmax(predictions, 1) == labels) /\n",
    "      predictions.shape[0])"
   ]
  },
  {
   "cell_type": "code",
   "execution_count": 7,
   "metadata": {},
   "outputs": [],
   "source": [
    "# tf Graph input\n",
    "x = tf.placeholder(tf.float32, [None, n_input])\n",
    "y = tf.placeholder(tf.int64, (None,))\n",
    "keep_prob = tf.placeholder(tf.float32) #dropout (keep probability)"
   ]
  },
  {
   "cell_type": "code",
   "execution_count": 8,
   "metadata": {},
   "outputs": [],
   "source": [
    "# Create some wrappers for simplicity\n",
    "def conv2d(x, W, b, strides=1):\n",
    "    # Conv2D wrapper, with bias and relu activation\n",
    "    x = tf.nn.conv2d(x, W, strides=[1, strides, strides, 1], padding='SAME')\n",
    "    x = tf.nn.bias_add(x, b)\n",
    "    return tf.nn.relu(x)"
   ]
  },
  {
   "cell_type": "code",
   "execution_count": 9,
   "metadata": {},
   "outputs": [],
   "source": [
    "def maxpool2d(x, k=2):\n",
    "    # MaxPool2D wrapper\n",
    "    return tf.nn.max_pool(x, ksize=[1, k, k, 1], strides=[1, k, k, 1],\n",
    "                          padding='SAME')\n"
   ]
  },
  {
   "cell_type": "code",
   "execution_count": 10,
   "metadata": {},
   "outputs": [],
   "source": [
    "# Create model\n",
    "def conv_net(x, weights, biases, dropout):\n",
    "    # Reshape input picture\n",
    "    x = tf.reshape(x, shape=[-1, 28, 28, 1])\n",
    "\n",
    "    # Convolution Layer\n",
    "    conv1 = conv2d(x, weights['wc1'], biases['bc1'])\n",
    "    # Max Pooling (down-sampling)\n",
    "    conv1 = maxpool2d(conv1, k=2)\n",
    "\n",
    "    # Convolution Layer\n",
    "    conv2 = conv2d(conv1, weights['wc2'], biases['bc2'])\n",
    "    # Max Pooling (down-sampling)\n",
    "    conv2 = maxpool2d(conv2, k=2)\n",
    "\n",
    "    # Fully connected layer\n",
    "    # Reshape conv2 output to fit fully connected layer input\n",
    "    fc1 = tf.reshape(conv2, [-1, weights['wd1'].get_shape().as_list()[0]])\n",
    "    fc1 = tf.add(tf.matmul(fc1, weights['wd1']), biases['bd1'])\n",
    "    fc1 = tf.nn.relu(fc1)\n",
    "    # Apply Dropout\n",
    "    fc1 = tf.nn.dropout(fc1, dropout)\n",
    "    #fully connected 1024 to 256\n",
    "    fc2 = tf.add(tf.matmul(fc1,weights['wd2']),biases['bd2'])\n",
    "    fc2 = tf.nn.relu(fc2)\n",
    "    fc2 = tf.nn.dropout(fc2,dropout)\n",
    "    # Output, class prediction\n",
    "    out = tf.add(tf.matmul(fc2, weights['out']), biases['out'])\n",
    "    return out"
   ]
  },
  {
   "cell_type": "code",
   "execution_count": 11,
   "metadata": {},
   "outputs": [],
   "source": [
    "# Store layers weight & bias\n",
    "weights = {\n",
    "    # 5x5 conv, 1 input, 32 outputs\n",
    "    'wc1': tf.Variable(tf.truncated_normal([5, 5, 1, 32],stddev=0.1)),\n",
    "    # 5x5 conv, 32 inputs, 64 outputs\n",
    "    'wc2': tf.Variable(tf.truncated_normal([5, 5, 32, 64],stddev=0.1)),\n",
    "    # fully connected, 7*7*64 inputs, 1024 outputs\n",
    "    'wd1': tf.Variable(tf.truncated_normal([7*7*64, 1024],stddev=0.1)),\n",
    "    # fully connected, 1024 inputs, 256 outputs\n",
    "    'wd2': tf.Variable(tf.truncated_normal([1024,256],stddev=0.1)),\n",
    "    # 256 inputs, 10 outputs (class prediction)\n",
    "    'out': tf.Variable(tf.truncated_normal([256, n_classes],stddev=0.1))\n",
    "}\n",
    "\n",
    "biases = {\n",
    "    'bc1': tf.Variable(tf.truncated_normal([32],stddev=0.1)),\n",
    "    'bc2': tf.Variable(tf.truncated_normal([64],stddev=0.1)),\n",
    "    'bd1': tf.Variable(tf.truncated_normal([1024],stddev=0.1)),\n",
    "    'bd2': tf.Variable(tf.truncated_normal([256],stddev=0.1)),\n",
    "    'out': tf.Variable(tf.truncated_normal([n_classes],stddev=0.1))\n",
    "}"
   ]
  },
  {
   "cell_type": "code",
   "execution_count": 12,
   "metadata": {},
   "outputs": [],
   "source": [
    "import time\n",
    "import numpy\n",
    "import sys\n",
    "import random\n",
    "from tensorflow.python.framework import ops\n",
    "import matplotlib.pyplot as plt\n",
    "%matplotlib inline"
   ]
  },
  {
   "cell_type": "code",
   "execution_count": 175,
   "metadata": {
    "scrolled": false
   },
   "outputs": [
    {
     "name": "stdout",
     "output_type": "stream",
     "text": [
      "Iter :,0.00, Minibatch Loss= 4.461624, Training Accuracy= 0.20312\n",
      "Iter :100,0.38, Minibatch Loss= 0.136753, Training Accuracy= 0.95312\n",
      "Iter :200,0.76, Minibatch Loss= 0.091208, Training Accuracy= 0.97656\n",
      "Iter :300,1.14, Minibatch Loss= 0.020163, Training Accuracy= 0.99219\n",
      "Iter :400,1.52, Minibatch Loss= 0.024872, Training Accuracy= 0.99219\n",
      "Iter :500,1.90, Minibatch Loss= 0.026697, Training Accuracy= 0.99219\n",
      "Iter :600,2.29, Minibatch Loss= 0.012894, Training Accuracy= 1.00000\n",
      "Iter :700,2.67, Minibatch Loss= 0.029908, Training Accuracy= 0.98438\n",
      "Iter :800,3.05, Minibatch Loss= 0.012798, Training Accuracy= 0.99219\n",
      "Iter :900,3.43, Minibatch Loss= 0.003755, Training Accuracy= 1.00000\n",
      "Iter :1000,3.81, Minibatch Loss= 0.031905, Training Accuracy= 0.99219\n",
      "Iter :1100,4.19, Minibatch Loss= 0.006126, Training Accuracy= 1.00000\n",
      "Iter :1200,4.57, Minibatch Loss= 0.000903, Training Accuracy= 1.00000\n",
      "Iter :1300,4.95, Minibatch Loss= 0.003760, Training Accuracy= 1.00000\n",
      "Iter :1400,5.33, Minibatch Loss= 0.020454, Training Accuracy= 0.99219\n",
      "Iter :1500,5.71, Minibatch Loss= 0.010130, Training Accuracy= 0.99219\n",
      "Iter :1600,6.10, Minibatch Loss= 0.004214, Training Accuracy= 1.00000\n",
      "Iter :1700,6.48, Minibatch Loss= 0.000851, Training Accuracy= 1.00000\n",
      "Iter :1800,6.86, Minibatch Loss= 0.001214, Training Accuracy= 1.00000\n",
      "Iter :1900,7.24, Minibatch Loss= 0.000407, Training Accuracy= 1.00000\n",
      "Iter :2000,7.62, Minibatch Loss= 0.000830, Training Accuracy= 1.00000\n",
      "Iter :2100,8.00, Minibatch Loss= 0.000618, Training Accuracy= 1.00000\n",
      "Iter :2200,8.38, Minibatch Loss= 0.000975, Training Accuracy= 1.00000\n",
      "Iter :2300,8.76, Minibatch Loss= 0.002340, Training Accuracy= 1.00000\n",
      "Iter :2400,9.14, Minibatch Loss= 0.000718, Training Accuracy= 1.00000\n",
      "Iter :2500,9.52, Minibatch Loss= 0.003622, Training Accuracy= 1.00000\n",
      "Iter :2600,9.90, Minibatch Loss= 0.000924, Training Accuracy= 1.00000\n",
      "Optimization Finished!\n"
     ]
    },
    {
     "data": {
      "image/png": "[encoded data removed]",
      "text/plain": [
       "<matplotlib.figure.Figure at 0x7f7c19485690>"
      ]
     },
     "metadata": {},
     "output_type": "display_data"
    },
    {
     "name": "stdout",
     "output_type": "stream",
     "text": [
      "('test accuracy is:', 0.99060059)\n"
     ]
    }
   ],
   "source": [
    "# Construct model\n",
    "pred = conv_net(x, weights, biases, keep_prob)\n",
    "\n",
    "# Define loss and optimizer\n",
    "cost = tf.reduce_mean(tf.nn.sparse_softmax_cross_entropy_with_logits(logits=pred, labels=y))\n",
    "regularizations = (tf.nn.l2_loss(weights['wd1'])+tf.nn.l2_loss(weights['wd2'])+\n",
    "                  tf.nn.l2_loss(weights['out'])+tf.nn.l2_loss(biases['bd1'])+\n",
    "                  tf.nn.l2_loss(biases['bd2'])+tf.nn.l2_loss(biases['out']))\n",
    "#cost += 5e-4 * regularizations\n",
    "optimizer = tf.train.AdamOptimizer(learning_rate=learning_rate).minimize(cost)\n",
    "\n",
    "# Evaluate model\n",
    "correct_pred = tf.equal(tf.argmax(pred, 1), y)\n",
    "accuracy = tf.reduce_mean(tf.cast(correct_pred, tf.float32))\n",
    "\n",
    "# Initializing the variables\n",
    "init = tf.global_variables_initializer()\n",
    "\n",
    "# Launch the graph\n",
    "with tf.Session() as sess:\n",
    "    sess.run(init)\n",
    "    step = 0\n",
    "    offset = 0\n",
    "    lossed = []\n",
    "    accs = []\n",
    "    preds = []\n",
    "    index = range(X_train.shape[0])\n",
    "    # Keep training until reach max iterations\n",
    "    while step * batch_size < training_iters:\n",
    "        if offset > (X_train.shape[0]-batch_size):\n",
    "            random.shuffle(index)\n",
    "        offset = offset%(X_train.shape[0]-batch_size)\n",
    "        batch_x = X_train.iloc[index[offset:(offset + batch_size)], :]\n",
    "        batch_y = y_train.iloc[index[offset:(offset + batch_size)]]\n",
    "        offset = offset + batch_size\n",
    "        # Run optimization op (backprop)\n",
    "        sess.run(optimizer, feed_dict={x: batch_x, y: batch_y,\n",
    "                                       keep_prob: dropout})\n",
    "        if step % display_step == 0:\n",
    "            # Calculate batch loss and accuracy\n",
    "            loss, acc = sess.run([cost, accuracy], feed_dict={x: batch_x,\n",
    "                                                              y: batch_y,\n",
    "                                                              keep_prob: 1.})\n",
    "            lossed.append(loss)\n",
    "            print(\"Iter :%.d,%.2f\"%(step,1.0*step*batch_size/X_train.shape[0]) + \", Minibatch Loss= \" + \\\n",
    "                  \"{:.6f}\".format(loss) + \", Training Accuracy= \" + \\\n",
    "                  \"{:.5f}\".format(acc))\n",
    "        step += 1\n",
    "    print(\"Optimization Finished!\")\n",
    "    plt.plot(numpy.squeeze(lossed))\n",
    "    plt.xlabel('iteration perhundred')\n",
    "    plt.ylabel('loss')\n",
    "    plt.show()\n",
    "    # Calculate accuracy for 256 mnist test images\n",
    "    for i in range(X_test.shape[0]/batch_size-1):\n",
    "        acc = sess.run(accuracy, feed_dict={x: X_test[i*batch_size:(i+1)*batch_size],\n",
    "                                            y: y_test[i*batch_size:(i+1)*batch_size],\n",
    "                                            keep_prob: 1.})\n",
    "        accs.append(acc)\n",
    "    print(\"test accuracy is:\",numpy.mean(accs))\n",
    "    for i in range(data_na.shape[0]/140):\n",
    "        pred_test = sess.run(pred, feed_dict={x:data_na[i*140:(i+1)*140],\n",
    "                                         y:y_train[i*140:(i+1)*140],\n",
    "                                         keep_prob: 1.})\n",
    "        preds.append(numpy.argmax(pred_test,axis=1))\n",
    "    preds = numpy.reshape(preds,[-1,1])\n",
    "    preds = numpy.squeeze(preds)\n"
   ]
  }
 ],
 "metadata": {
  "kernelspec": {
   "display_name": "Python 2",
   "language": "python",
   "name": "python2"
  },
  "language_info": {
   "codemirror_mode": {
    "name": "ipython",
    "version": 2
   },
   "file_extension": ".py",
   "mimetype": "text/x-python",
   "name": "python",
   "nbconvert_exporter": "python",
   "pygments_lexer": "ipython2",
   "version": "2.7.13"
  }
 },
 "nbformat": 4,
 "nbformat_minor": 2
}
