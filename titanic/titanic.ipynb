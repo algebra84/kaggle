{
 "cells": [
  {
   "cell_type": "code",
   "execution_count": 61,
   "metadata": {
    "collapsed": true,
    "scrolled": false
   },
   "outputs": [],
   "source": [
    "import numpy as np\n",
    "import pandas as pd\n",
    "from collections import Counter\n",
    "import seaborn as sb\n",
    "import re\n",
    "import matplotlib.pyplot as plt\n",
    "data_train = pd.read_csv(\"./data/train.csv\")\n",
    "data_test = pd.read_csv(\"./data/test.csv\")\n",
    "\n",
    "predictors = ['Pclass','Sex','Age','SibSp','Parch','Fare','Embarked','Family_id','Family_size','Namelength','Title']\n",
    "family = data_train['Name'].apply(lambda x:x.split(',')[0])\n",
    "#sorted(Counter(family).items(), key=lambda i: i[1],reverse=True)\n",
    "family_count = {}\n",
    "for var in family:\n",
    "    if var in family_count:\n",
    "        family_count[var]+=1\n",
    "    else:\n",
    "        family_count[var]=1\n",
    "family_id = {}\n",
    "count = 1\n",
    "for var in family:\n",
    "    if family_count[var] <= 2:\n",
    "        family_id[var] = 0\n",
    "    elif var not in family_id:\n",
    "        family_id[var] = count\n",
    "        count+=1\n",
    "\n",
    "data_train['Family_id'] = family.apply(lambda x:family_id[x])\n",
    "data_train['Family_size'] = data_train['SibSp'] + data_train['Parch']\n",
    "data_train['Namelength'] = data_train['Name'].apply(lambda x:len(x))\n",
    "\n",
    "# A function to get the title from a name\n",
    "def get_title(name):\n",
    "    # Use a regular expression to search for a title  \n",
    "    # Titles always consist of capital and lowercase letters, and end with a period\n",
    "    title_search = re.search(' ([A-Za-z]+)\\.', name)\n",
    "    # If the title exists, extract and return it\n",
    "    if title_search:\n",
    "        return title_search.group(1)\n",
    "    return \"\"\n",
    "titles = data_train[\"Name\"].apply(get_title)\n",
    "title_mapping = {\"Mr\": 1, \"Miss\": 2, \"Mrs\": 3, \"Master\": 4, \"Dr\": 5, \"Rev\": 6, \"Major\": 7, \"Col\": 7, \"Mlle\": 8, \"Mme\": 8, \"Don\": 9, \"Lady\": 10, \"Countess\": 10, \"Jonkheer\": 10, \"Sir\": 9, \"Capt\": 7, \"Ms\": 2,\"Dona\":3}\n",
    "for k,v in title_mapping.items():\n",
    "    titles[titles == k] = v\n",
    "data_train['Title'] = titles\n",
    "\n",
    "### test_data\n",
    "family1 = data_test['Name'].apply(lambda x:x.split(',')[0])\n",
    "family_count1 = {}\n",
    "for var in family1:\n",
    "    if var in family_count1:\n",
    "        family_count1[var]+=1\n",
    "    else:\n",
    "        family_count1[var]=1\n",
    "family_id1 = {}\n",
    "count = 1\n",
    "for var in family1:\n",
    "    if family_count1[var] <= 2:\n",
    "        family_id1[var] = 0\n",
    "    elif var not in family_id1:\n",
    "        family_id1[var] = count\n",
    "        count+=1\n",
    "\n",
    "data_test['Family_id'] = family1.apply(lambda x:family_id1[x])\n",
    "data_test['Family_size'] = data_test['SibSp'] + data_test['Parch']\n",
    "data_test['Namelength'] = data_test['Name'].apply(lambda x:len(x))\n",
    "\n",
    "titles1 = data_test[\"Name\"].apply(get_title)\n",
    "for k,v in title_mapping.items():\n",
    "    titles1[titles1 == k] = v\n",
    "data_test['Title'] = titles1\n",
    "#g = sb.FacetGrid(data_train,row='Pclass',col='Sex')\n",
    "#g.map(plt.hist,'Survived')\n",
    "#sb.barplot(x='Embarked', y='Survived', data=embark_perc,order=['S','C','Q'])\n",
    "#fig, (axis1,axis2,axis3) = plt.subplots(1,3,figsize=(15,5))\n",
    "#plt.show()"
   ]
  },
  {
   "cell_type": "code",
   "execution_count": 3,
   "metadata": {
    "collapsed": true
   },
   "outputs": [],
   "source": [
    "#clean data\n",
    "#train\n",
    "#gen new feature\n",
    "\n",
    "#clean data\n",
    "data_train.loc[data_train['Sex'] == 'male','Sex'] = 0\n",
    "data_train.loc[data_train['Sex'] == 'female','Sex'] = 1\n",
    "data_train['Age'] = data_train['Age'].fillna(data_train['Age'].mean())\n",
    "data_train['Embarked'] = data_train['Embarked'].fillna('S')\n",
    "data_train.loc[data_train['Embarked'] == 'S','Embarked'] = 0\n",
    "data_train.loc[data_train['Embarked'] == 'C','Embarked'] = 1\n",
    "data_train.loc[data_train['Embarked'] == 'Q','Embarked'] = 2\n",
    "#test\n",
    "data_test['Age'] = data_test['Age'].fillna(data_train['Age'].mean())\n",
    "data_test['Fare'] = data_test['Fare'].fillna(data_train['Fare'].mean())\n",
    "data_test.loc[data_test['Sex'] == 'male','Sex'] = 0\n",
    "data_test.loc[data_test['Sex'] == 'female','Sex'] = 1\n",
    "data_test['Embarked'] = data_test['Embarked'].fillna('S')\n",
    "data_test.loc[data_test['Embarked'] == 'S','Embarked'] = 0\n",
    "data_test.loc[data_test['Embarked'] == 'C','Embarked'] = 1\n",
    "data_test.loc[data_test['Embarked'] == 'Q','Embarked'] = 2\n"
   ]
  },
  {
   "cell_type": "code",
   "execution_count": 10,
   "metadata": {
    "collapsed": false
   },
   "outputs": [
    {
     "name": "stdout",
     "output_type": "stream",
     "text": [
      "0.913580246914\n",
      "0.913580246914\n",
      "0.948372615039\n"
     ]
    }
   ],
   "source": [
    "from sklearn import svm\n",
    "from sklearn.ensemble import RandomForestClassifier\n",
    "from sklearn.ensemble import ExtraTreesClassifier\n",
    "\n",
    "#clf = RandomForestClassifier(n_estimators=100,min_samples_split = 4,min_samples_leaf = 2)\n",
    "clf = ExtraTreesClassifier(n_estimators=100,min_samples_split = 4,min_samples_leaf = 2)\n",
    "rfc = svm.SVC()\n",
    "rfc.fit(data_train[predictors],data_train['Survived'])\n",
    "clf.fit(data_train[predictors],data_train['Survived'])\n",
    "accuracy = sum((clf.predict(data_train[predictors]) == data_train['Survived']).astype('float'))/len(data_train)\n",
    "accuracy1 = sum((rfc.predict(data_train[predictors]) == data_train['Survived']).astype('float'))/len(data_train)\n",
    "predictions = clf.predict(data_test[predictors])\n",
    "predictions1 = rfc.predict(data_test[predictors])\n",
    "predictions2 = (predictions + predictions1)/2.0\n",
    "predictions2[predictions2 > .5] = 1\n",
    "predictions2[predictions2 <= .5] = 0\n",
    "predictions2 = predictions2.astype('int')\n",
    "submisson = pd.DataFrame({ 'PassengerId' : data_test['PassengerId'], 'Survived': predictions })\n",
    "submisson.to_csv('titanic-predictions.csv', index = False)\n",
    "train_pd = clf.predict(data_train[predictors])\n",
    "train_pd2 = rfc.predict(data_train[predictors])\n",
    "train_pd3 = (train_pd+train_pd2)/2.0\n",
    "train_pd3[train_pd3 > .5] = 1\n",
    "train_pd3[train_pd3 <= .5] = 0\n",
    "print(sum((train_pd3 == data_train['Survived']).astype('float'))/len(data_train))\n",
    "print(accuracy)\n",
    "print(accuracy1)"
   ]
  },
  {
   "cell_type": "code",
   "execution_count": null,
   "metadata": {
    "collapsed": true
   },
   "outputs": [],
   "source": []
  }
 ],
 "metadata": {
  "kernelspec": {
   "display_name": "Python 2",
   "language": "python",
   "name": "python2"
  },
  "language_info": {
   "codemirror_mode": {
    "name": "ipython",
    "version": 2
   },
   "file_extension": ".py",
   "mimetype": "text/x-python",
   "name": "python",
   "nbconvert_exporter": "python",
   "pygments_lexer": "ipython2",
   "version": "2.7.13"
  }
 },
 "nbformat": 4,
 "nbformat_minor": 2
}
