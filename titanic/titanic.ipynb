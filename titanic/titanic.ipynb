{
 "cells": [
  {
   "cell_type": "code",
   "execution_count": 120,
   "metadata": {},
   "outputs": [],
   "source": [
    "import numpy as np\n",
    "import pandas as pd\n",
    "\n",
    "data_train = pd.read_csv(\"./data/train.csv\")\n",
    "data_test = pd.read_csv(\"./data/test.csv\")\n",
    "\n",
    "predictors = ['Pclass','Sex','Age','SibSp','Parch','Fare','Embarked']"
   ]
  },
  {
   "cell_type": "code",
   "execution_count": 121,
   "metadata": {},
   "outputs": [
    {
     "data": {
      "text/plain": [
       "Index([u'PassengerId', u'Pclass', u'Name', u'Sex', u'Age', u'SibSp', u'Parch',\n",
       "       u'Ticket', u'Fare', u'Cabin', u'Embarked'],\n",
       "      dtype='object')"
      ]
     },
     "execution_count": 121,
     "metadata": {},
     "output_type": "execute_result"
    }
   ],
   "source": [
    "#clean data\n",
    "#train\n",
    "data_train.loc[data_train['Sex'] == 'male','Sex'] = 0\n",
    "data_train.loc[data_train['Sex'] == 'female','Sex'] = 1\n",
    "data_train['Age'] = data_train['Age'].fillna(data_train['Age'].mean())\n",
    "data_train['Embarked'] = data_train['Embarked'].fillna('S')\n",
    "data_train.loc[data_train['Embarked'] == 'S','Embarked'] = 0\n",
    "data_train.loc[data_train['Embarked'] == 'C','Embarked'] = 1\n",
    "data_train.loc[data_train['Embarked'] == 'Q','Embarked'] = 2\n",
    "#test\n",
    "data_test['Age'] = data_test['Age'].fillna(data_train['Age'].mean())\n",
    "data_test['Fare'] = data_test['Fare'].fillna(data_train['Fare'].mean())\n",
    "data_test.loc[data_test['Sex'] == 'male','Sex'] = 0\n",
    "data_test.loc[data_test['Sex'] == 'female','Sex'] = 1\n",
    "data_test['Embarked'] = data_test['Embarked'].fillna('S')\n",
    "data_test.loc[data_test['Embarked'] == 'S','Embarked'] = 0\n",
    "data_test.loc[data_test['Embarked'] == 'C','Embarked'] = 1\n",
    "data_test.loc[data_test['Embarked'] == 'Q','Embarked'] = 2\n"
   ]
  },
  {
   "cell_type": "code",
   "execution_count": 134,
   "metadata": {},
   "outputs": [],
   "source": [
    "from sklearn import svm\n",
    "\n",
    "clf = svm.SVC()\n",
    "clf.fit(data_train[predictors],data_train['Survived'])\n",
    "accuracy = sum((clf.predict(data_train[predictors]) == data_train['Survived']).astype('float'))/len(data_train)\n",
    "predictions = clf.predict(data_test[predictors])\n",
    "submisson = pd.DataFrame({ 'PassengerId' : data_test['PassengerId'], 'Survived': predictions })\n",
    "submisson.to_csv('titanic-predictions.csv', index = False)"
   ]
  },
  {
   "cell_type": "code",
   "execution_count": null,
   "metadata": {
    "collapsed": true
   },
   "outputs": [],
   "source": []
  }
 ],
 "metadata": {
  "kernelspec": {
   "display_name": "Python 2",
   "language": "python",
   "name": "python2"
  },
  "language_info": {
   "codemirror_mode": {
    "name": "ipython",
    "version": 2
   },
   "file_extension": ".py",
   "mimetype": "text/x-python",
   "name": "python",
   "nbconvert_exporter": "python",
   "pygments_lexer": "ipython2",
   "version": "2.7.6"
  }
 },
 "nbformat": 4,
 "nbformat_minor": 2
}
