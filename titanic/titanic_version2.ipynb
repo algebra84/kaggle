{
 "cells": [
  {
   "cell_type": "code",
   "execution_count": 190,
   "metadata": {},
   "outputs": [
    {
     "name": "stdout",
     "output_type": "stream",
     "text": [
      "<class 'pandas.core.frame.DataFrame'>\n",
      "RangeIndex: 891 entries, 0 to 890\n",
      "Data columns (total 10 columns):\n",
      "Survived    891 non-null int64\n",
      "Pclass      891 non-null int64\n",
      "Name        891 non-null object\n",
      "Sex         891 non-null object\n",
      "Age         714 non-null float64\n",
      "SibSp       891 non-null int64\n",
      "Parch       891 non-null int64\n",
      "Fare        891 non-null float64\n",
      "Cabin       204 non-null object\n",
      "Embarked    889 non-null object\n",
      "dtypes: float64(2), int64(4), object(4)\n",
      "memory usage: 69.7+ KB\n"
     ]
    }
   ],
   "source": [
    "import numpy as np\n",
    "import pandas as pd\n",
    "from collections import Counter\n",
    "import seaborn as sb\n",
    "import re\n",
    "import matplotlib.pyplot as plt\n",
    "data_train = pd.read_csv(\"./data/train.csv\")\n",
    "data_test = pd.read_csv(\"./data/test.csv\")\n",
    "data_train = data_train.drop(['PassengerId','Ticket'],axis = 1)\n",
    "data_test = data_test.drop(['Ticket','PassengerId'],axis=1)\n",
    "data_train.info()"
   ]
  },
  {
   "cell_type": "markdown",
   "metadata": {},
   "source": [
    "# visualize feature 'Embarked'\n",
    "- factorplot\n",
    "- countplot\n",
    "- barplot"
   ]
  },
  {
   "cell_type": "code",
   "execution_count": 191,
   "metadata": {},
   "outputs": [],
   "source": [
    "# Embarked\n",
    "data_train['Embarked'].fillna('S',inplace = True)\n",
    "sb.factorplot('Embarked','Survived',data=data_train,size=4,aspect = 3)\n",
    "fig,[axis1,axis2,axis3] = plt.subplots(1,3,figsize=(15,3))\n",
    "sb.countplot('Embarked',data=data_train,ax=axis1)\n",
    "sb.countplot(x = 'Embarked',hue = 'Survived',data=data_train,ax=axis2)\n",
    "mean_emb = data_train[['Embarked','Survived']].groupby(['Embarked'],as_index=False).mean()\n",
    "sb.barplot(x='Embarked',y='Survived',data=mean_emb,order=['S','C','Q'],ax = axis3)\n",
    "plt.show()"
   ]
  },
  {
   "cell_type": "markdown",
   "metadata": {},
   "source": [
    "# onehot set of 'Embarked'"
   ]
  },
  {
   "cell_type": "code",
   "execution_count": 192,
   "metadata": {},
   "outputs": [
    {
     "name": "stdout",
     "output_type": "stream",
     "text": [
      "<class 'pandas.core.frame.DataFrame'>\n",
      "RangeIndex: 891 entries, 0 to 890\n",
      "Data columns (total 12 columns):\n",
      "Survived    891 non-null int64\n",
      "Pclass      891 non-null int64\n",
      "Name        891 non-null object\n",
      "Sex         891 non-null object\n",
      "Age         714 non-null float64\n",
      "SibSp       891 non-null int64\n",
      "Parch       891 non-null int64\n",
      "Fare        891 non-null float64\n",
      "Cabin       204 non-null object\n",
      "C           891 non-null uint8\n",
      "Q           891 non-null uint8\n",
      "S           891 non-null uint8\n",
      "dtypes: float64(2), int64(4), object(3), uint8(3)\n",
      "memory usage: 65.3+ KB\n"
     ]
    }
   ],
   "source": [
    "dumemb_train = pd.get_dummies(data_train['Embarked'])\n",
    "dumemb_test = pd.get_dummies(data_test['Embarked'])\n",
    "data_train = data_train.join(dumemb_train)\n",
    "data_test = data_test.join(dumemb_test)\n",
    "data_train.drop(['Embarked'],axis=1,inplace = True)\n",
    "data_test.drop(['Embarked'],axis=1,inplace = True)\n",
    "data_train.info()"
   ]
  },
  {
   "cell_type": "markdown",
   "metadata": {},
   "source": [
    "# visialize feature 'Age'\n",
    "- fill na data\n",
    "- see diff between before and after"
   ]
  },
  {
   "cell_type": "code",
   "execution_count": 193,
   "metadata": {},
   "outputs": [],
   "source": [
    "#train\n",
    "fig,[axis1,axis2] = plt.subplots(1,2,figsize=(15,4))\n",
    "axis1.set_title('origin age')\n",
    "axis2.set_title('modified Age')\n",
    "\n",
    "data_train['Age'].hist(bins = 70,ax = axis1)\n",
    "\n",
    "# get distribute of age in test and train\n",
    "## train\n",
    "mean_age_train = data_train['Age'].mean()\n",
    "std_age_train = data_train['Age'].std()\n",
    "numnull_train = data_train['Age'].isnull().astype('int').sum()\n",
    "\n",
    "## test\n",
    "mean_age_test = data_test['Age'].mean()\n",
    "std_age_test = data_test['Age'].std()\n",
    "numnull_test = data_test['Age'].isnull().astype('int').sum()\n",
    "\n",
    "# random initialize na value\n",
    "rand1 = np.random.randint(mean_age_train-std_age_train,mean_age_train+std_age_train,size=numnull_train)\n",
    "rand2 = np.random.randint(mean_age_test-std_age_test,mean_age_test+std_age_test,size=numnull_test)\n",
    "\n",
    "data_train.loc[data_train['Age'].isnull(),'Age']=rand1\n",
    "data_test.loc[data_test['Age'].isnull(),'Age']=rand2\n",
    "\n",
    "data_train['Age'].hist(bins = 70,ax = axis2)\n",
    "plt.show()"
   ]
  },
  {
   "cell_type": "code",
   "execution_count": 194,
   "metadata": {},
   "outputs": [],
   "source": [
    "# .... continue with plot Age column\n",
    "\n",
    "data_train['Age'] = data_train['Age'].astype('int')\n",
    "data_test['Age'] = data_test['Age'].astype('int')\n",
    "\n",
    "# peaks for survived/not survived passengers by their age\n",
    "facet = sb.FacetGrid(data_train, hue=\"Survived\",aspect=4)\n",
    "facet.map(sb.kdeplot,'Age',shade= True)\n",
    "facet.set(xlim=(0, data_train['Age'].max()))\n",
    "facet.add_legend()\n",
    "\n",
    "# average survived passengers by age\n",
    "fig, axis1 = plt.subplots(1,1,figsize=(22,4))\n",
    "average_age = data_train[[\"Age\", \"Survived\"]].groupby(['Age'],as_index=False).mean()\n",
    "sb.barplot(x='Age', y='Survived',data=average_age)\n",
    "plt.show()"
   ]
  },
  {
   "cell_type": "code",
   "execution_count": 195,
   "metadata": {},
   "outputs": [
    {
     "data": {
      "text/html": [
       "<div>\n",
       "<style>\n",
       "    .dataframe thead tr:only-child th {\n",
       "        text-align: right;\n",
       "    }\n",
       "\n",
       "    .dataframe thead th {\n",
       "        text-align: left;\n",
       "    }\n",
       "\n",
       "    .dataframe tbody tr th {\n",
       "        vertical-align: top;\n",
       "    }\n",
       "</style>\n",
       "<table border=\"1\" class=\"dataframe\">\n",
       "  <thead>\n",
       "    <tr style=\"text-align: right;\">\n",
       "      <th></th>\n",
       "      <th>Survived</th>\n",
       "      <th>Name</th>\n",
       "      <th>Sex</th>\n",
       "      <th>Age</th>\n",
       "      <th>SibSp</th>\n",
       "      <th>Parch</th>\n",
       "      <th>Fare</th>\n",
       "      <th>Cabin</th>\n",
       "      <th>C</th>\n",
       "      <th>Q</th>\n",
       "      <th>S</th>\n",
       "      <th>pclass_1</th>\n",
       "      <th>pclass_2</th>\n",
       "      <th>pclass_3</th>\n",
       "    </tr>\n",
       "  </thead>\n",
       "  <tbody>\n",
       "    <tr>\n",
       "      <th>0</th>\n",
       "      <td>0</td>\n",
       "      <td>Braund, Mr. Owen Harris</td>\n",
       "      <td>male</td>\n",
       "      <td>22</td>\n",
       "      <td>1</td>\n",
       "      <td>0</td>\n",
       "      <td>7.2500</td>\n",
       "      <td>NaN</td>\n",
       "      <td>0</td>\n",
       "      <td>0</td>\n",
       "      <td>1</td>\n",
       "      <td>0</td>\n",
       "      <td>0</td>\n",
       "      <td>1</td>\n",
       "    </tr>\n",
       "    <tr>\n",
       "      <th>1</th>\n",
       "      <td>1</td>\n",
       "      <td>Cumings, Mrs. John Bradley (Florence Briggs Th...</td>\n",
       "      <td>female</td>\n",
       "      <td>38</td>\n",
       "      <td>1</td>\n",
       "      <td>0</td>\n",
       "      <td>71.2833</td>\n",
       "      <td>C85</td>\n",
       "      <td>1</td>\n",
       "      <td>0</td>\n",
       "      <td>0</td>\n",
       "      <td>1</td>\n",
       "      <td>0</td>\n",
       "      <td>0</td>\n",
       "    </tr>\n",
       "    <tr>\n",
       "      <th>2</th>\n",
       "      <td>1</td>\n",
       "      <td>Heikkinen, Miss. Laina</td>\n",
       "      <td>female</td>\n",
       "      <td>26</td>\n",
       "      <td>0</td>\n",
       "      <td>0</td>\n",
       "      <td>7.9250</td>\n",
       "      <td>NaN</td>\n",
       "      <td>0</td>\n",
       "      <td>0</td>\n",
       "      <td>1</td>\n",
       "      <td>0</td>\n",
       "      <td>0</td>\n",
       "      <td>1</td>\n",
       "    </tr>\n",
       "    <tr>\n",
       "      <th>3</th>\n",
       "      <td>1</td>\n",
       "      <td>Futrelle, Mrs. Jacques Heath (Lily May Peel)</td>\n",
       "      <td>female</td>\n",
       "      <td>35</td>\n",
       "      <td>1</td>\n",
       "      <td>0</td>\n",
       "      <td>53.1000</td>\n",
       "      <td>C123</td>\n",
       "      <td>0</td>\n",
       "      <td>0</td>\n",
       "      <td>1</td>\n",
       "      <td>1</td>\n",
       "      <td>0</td>\n",
       "      <td>0</td>\n",
       "    </tr>\n",
       "    <tr>\n",
       "      <th>4</th>\n",
       "      <td>0</td>\n",
       "      <td>Allen, Mr. William Henry</td>\n",
       "      <td>male</td>\n",
       "      <td>35</td>\n",
       "      <td>0</td>\n",
       "      <td>0</td>\n",
       "      <td>8.0500</td>\n",
       "      <td>NaN</td>\n",
       "      <td>0</td>\n",
       "      <td>0</td>\n",
       "      <td>1</td>\n",
       "      <td>0</td>\n",
       "      <td>0</td>\n",
       "      <td>1</td>\n",
       "    </tr>\n",
       "  </tbody>\n",
       "</table>\n",
       "</div>"
      ],
      "text/plain": [
       "   Survived                                               Name     Sex  Age  \\\n",
       "0         0                            Braund, Mr. Owen Harris    male   22   \n",
       "1         1  Cumings, Mrs. John Bradley (Florence Briggs Th...  female   38   \n",
       "2         1                             Heikkinen, Miss. Laina  female   26   \n",
       "3         1       Futrelle, Mrs. Jacques Heath (Lily May Peel)  female   35   \n",
       "4         0                           Allen, Mr. William Henry    male   35   \n",
       "\n",
       "   SibSp  Parch     Fare Cabin  C  Q  S  pclass_1  pclass_2  pclass_3  \n",
       "0      1      0   7.2500   NaN  0  0  1         0         0         1  \n",
       "1      1      0  71.2833   C85  1  0  0         1         0         0  \n",
       "2      0      0   7.9250   NaN  0  0  1         0         0         1  \n",
       "3      1      0  53.1000  C123  0  0  1         1         0         0  \n",
       "4      0      0   8.0500   NaN  0  0  1         0         0         1  "
      ]
     },
     "execution_count": 195,
     "metadata": {},
     "output_type": "execute_result"
    }
   ],
   "source": [
    "#Pclass\n",
    "sb.countplot('Pclass',data=data_train)\n",
    "facet = sb.FacetGrid(data_train,hue='Survived',aspect=4)\n",
    "facet.map(sb.countplot,'Pclass')\n",
    "facet.add_legend()\n",
    "plt.show()\n",
    "\n",
    "dumy_train = pd.get_dummies(data_train['Pclass'],prefix = 'pclass')\n",
    "dumy_test = pd.get_dummies(data_test['Pclass'],prefix = 'pclass')\n",
    "\n",
    "data_train = data_train.join(dumy_train)\n",
    "data_test = data_test.join(dumy_test)\n",
    "\n",
    "data_train.drop('Pclass',axis = 1, inplace = True)\n",
    "data_test.drop('Pclass',axis = 1, inplace = True)\n",
    "\n",
    "data_train.head()"
   ]
  },
  {
   "cell_type": "code",
   "execution_count": 196,
   "metadata": {},
   "outputs": [],
   "source": [
    "#Sex\n",
    "data_train.loc[data_train['Age'] < 16,'Sex'] = 'child'\n",
    "data_test.loc[data_train['Age'] < 16, 'Sex'] = 'child'\n",
    "sb.countplot(x = 'Sex',data=data_train)\n",
    "plt.show()\n",
    "dumy_train = pd.get_dummies(data_train['Sex'])\n",
    "dumy_test = pd.get_dummies(data_test['Sex'])\n",
    "\n",
    "data_train = data_train.join(dumy_train)\n",
    "data_test = data_test.join(dumy_test)\n",
    "\n",
    "data_train.drop('Sex',axis=1,inplace = True)\n",
    "data_test.drop('Sex',axis=1,inplace=True)\n",
    "\n"
   ]
  },
  {
   "cell_type": "code",
   "execution_count": 197,
   "metadata": {},
   "outputs": [],
   "source": [
    "#Cabin\n",
    "data_train.drop('Cabin',axis=1,inplace=True)\n",
    "data_test.drop('Cabin',axis=1,inplace=True)"
   ]
  },
  {
   "cell_type": "code",
   "execution_count": 198,
   "metadata": {},
   "outputs": [],
   "source": [
    "#Fare only test\n",
    "data_test.loc[data_test['Fare'].isnull(),'Fare'] = data_test['Fare'].mean()"
   ]
  },
  {
   "cell_type": "code",
   "execution_count": 199,
   "metadata": {
    "collapsed": true
   },
   "outputs": [],
   "source": [
    "#Famliy\n",
    "data_train['Family'] = data_train['SibSp'] + data_train['Parch']\n",
    "data_test['Family'] = data_test['SibSp'] + data_test['Parch']\n",
    "\n",
    "data_train.loc[data_train['Family'] > 0,'Family'] = 1\n",
    "data_train.loc[data_train['Family'] == 0, 'Family'] = 0\n",
    "\n",
    "data_test.loc[data_test['Family'] > 0,'Family'] = 1\n",
    "data_test.loc[data_test['Family'] == 0, 'Family'] = 0\n",
    "\n",
    "data_train.drop(['SibSp','Parch'],axis=1,inplace = True)\n",
    "data_test.drop(['SibSp','Parch'],axis=1,inplace = True)\n",
    "\n"
   ]
  },
  {
   "cell_type": "code",
   "execution_count": 200,
   "metadata": {},
   "outputs": [],
   "source": [
    "#plot family\n",
    "fig,[axis1,axis2]=plt.subplots(1,2,figsize=(15,4))\n",
    "sb.countplot('Family',data=data_train,ax=axis1)\n",
    "faav = data_train[['Family','Survived']].groupby(['Family'],as_index=False).mean()\n",
    "sb.barplot('Family','Survived',data=faav,ax=axis2)\n",
    "plt.show()"
   ]
  },
  {
   "cell_type": "code",
   "execution_count": 201,
   "metadata": {},
   "outputs": [],
   "source": [
    "data_train.drop('Name',axis=1,inplace=True)\n",
    "data_test.drop('Name',axis=1,inplace=True)\n",
    "result = data_train['Survived']\n",
    "data_train.drop('Survived',axis=1,inplace=True)"
   ]
  },
  {
   "cell_type": "code",
   "execution_count": 209,
   "metadata": {},
   "outputs": [
    {
     "name": "stdout",
     "output_type": "stream",
     "text": [
      "0.859708193042\n",
      "0.874298540965\n",
      "0.877665544332\n"
     ]
    }
   ],
   "source": [
    "from sklearn import svm\n",
    "from sklearn.ensemble import RandomForestClassifier\n",
    "from sklearn.ensemble import ExtraTreesClassifier\n",
    "\n",
    "\n",
    "#clf = RandomForestClassifier(n_estimators=100,min_samples_split = 4,min_samples_leaf = 2)\n",
    "clf = ExtraTreesClassifier(n_estimators=100,min_samples_split = 4,min_samples_leaf = 2)\n",
    "rfc = svm.SVC()\n",
    "rfc.fit(data_train,result)\n",
    "clf.fit(data_train,result)\n",
    "accuracy = sum((clf.predict(data_train) == result).astype('float'))/len(data_train)\n",
    "accuracy1 = sum((rfc.predict(data_train) == result).astype('float'))/len(data_train)\n",
    "predictions = clf.predict(data_test)\n",
    "predictions1 = rfc.predict(data_test)\n",
    "predictions2 = (predictions + predictions1)/2.0\n",
    "predictions2[predictions2 > .5] = 1\n",
    "predictions2[predictions2 <= .5] = 0\n",
    "predictions2 = predictions2.astype('int')\n",
    "submisson = pd.DataFrame({ 'PassengerId' : pd.read_csv('data/test.csv')['PassengerId'], 'Survived': predictions1 })\n",
    "submisson.to_csv('titanic-predictions.csv', index = False)\n",
    "train_pd = clf.predict(data_train)\n",
    "train_pd2 = rfc.predict(data_train)\n",
    "train_pd3 = (train_pd+train_pd2)/2.0\n",
    "train_pd3[train_pd3 > .5] = 1\n",
    "train_pd3[train_pd3 <= .5] = 0\n",
    "print(sum((train_pd3 == result).astype('float'))/len(data_train))\n",
    "print(accuracy)\n",
    "print(accuracy1)"
   ]
  },
  {
   "cell_type": "code",
   "execution_count": null,
   "metadata": {
    "collapsed": true
   },
   "outputs": [],
   "source": []
  }
 ],
 "metadata": {
  "kernelspec": {
   "display_name": "Python 2",
   "language": "python",
   "name": "python2"
  },
  "language_info": {
   "codemirror_mode": {
    "name": "ipython",
    "version": 2
   },
   "file_extension": ".py",
   "mimetype": "text/x-python",
   "name": "python",
   "nbconvert_exporter": "python",
   "pygments_lexer": "ipython2",
   "version": "2.7.6"
  }
 },
 "nbformat": 4,
 "nbformat_minor": 2
}
